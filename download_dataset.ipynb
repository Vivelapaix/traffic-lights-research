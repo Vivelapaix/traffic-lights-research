{
  "nbformat": 4,
  "nbformat_minor": 0,
  "metadata": {
    "colab": {
      "name": "download_dataset.ipynb",
      "version": "0.3.2",
      "provenance": [],
      "collapsed_sections": []
    },
    "kernelspec": {
      "name": "python3",
      "display_name": "Python 3"
    }
  },
  "cells": [
    {
      "cell_type": "code",
      "metadata": {
        "id": "QDX-OPhpCaMM",
        "colab_type": "code",
        "colab": {
          "base_uri": "https://localhost:8080/",
          "height": 34
        },
        "outputId": "7ce1a8d8-c394-4f7d-c402-644ce75518b0"
      },
      "source": [
        "from google.colab import drive\n",
        "drive.mount('/content/drive/')"
      ],
      "execution_count": 31,
      "outputs": [
        {
          "output_type": "stream",
          "text": [
            "Drive already mounted at /content/drive/; to attempt to forcibly remount, call drive.mount(\"/content/drive/\", force_remount=True).\n"
          ],
          "name": "stdout"
        }
      ]
    },
    {
      "cell_type": "markdown",
      "metadata": {
        "id": "jfq7KDWfCyuW",
        "colab_type": "text"
      },
      "source": [
        "Now you need to generate kaggle.json. It's simple, just go on Kaggle in Your Profile -> My Accont -> Create New API Token"
      ]
    },
    {
      "cell_type": "code",
      "metadata": {
        "id": "g8ZO5EraCr89",
        "colab_type": "code",
        "colab": {}
      },
      "source": [
        "import os\n",
        "os.environ['KAGGLE_USERNAME'] = \"xxxxx\" # username from the json file \n",
        "os.environ['KAGGLE_KEY'] = \"xxxxx\" # key from the json file\n",
        "!kaggle datasets download -d mbornoe/lisa-traffic-light-dataset -p /content/drive/My\\ Drive/traffic_lights_research/kaggle/"
      ],
      "execution_count": 0,
      "outputs": []
    },
    {
      "cell_type": "code",
      "metadata": {
        "id": "hWOJ3o6tEjqO",
        "colab_type": "code",
        "colab": {
          "base_uri": "https://localhost:8080/",
          "height": 85
        },
        "outputId": "ac8b72fb-ef10-4339-c558-c8379a879604"
      },
      "source": [
        "# check dataset\n",
        "!ls /content/drive/My\\ Drive/traffic_lights_research/kaggle/"
      ],
      "execution_count": 2,
      "outputs": [
        {
          "output_type": "stream",
          "text": [
            "Annotations.zip   lisa-traffic-light-dataset.zip  sample-dayClip6.zip\n",
            "daySequence1.zip  nightSequence1.zip\t\t  sample-nightClip1.zip\n",
            "daySequence2.zip  nightSequence2.zip\n",
            "dayTrain.zip\t  nightTrain.zip\n"
          ],
          "name": "stdout"
        }
      ]
    },
    {
      "cell_type": "code",
      "metadata": {
        "id": "DDzUiY51FitK",
        "colab_type": "code",
        "colab": {}
      },
      "source": [
        "# unzip downloaded dataset\n",
        "!unzip /content/drive/My\\ Drive/traffic_lights_research/kaggle/lisa-traffic-light-dataset.zip -d /content/drive/My\\ Drive/traffic_lights_research/kaggle"
      ],
      "execution_count": 0,
      "outputs": []
    },
    {
      "cell_type": "code",
      "metadata": {
        "id": "kwb5fnsvFpIT",
        "colab_type": "code",
        "colab": {
          "base_uri": "https://localhost:8080/",
          "height": 85
        },
        "outputId": "acb029a0-9595-432d-af2b-c8915d8ccd6c"
      },
      "source": [
        "# if you want to change root, just use\n",
        "import os\n",
        "os.chdir('drive/My Drive/traffic_lights_research/kaggle/')\n",
        "!ls"
      ],
      "execution_count": 29,
      "outputs": [
        {
          "output_type": "stream",
          "text": [
            "Annotations.zip   lisa-traffic-light-dataset.zip  sample-dayClip6.zip\n",
            "daySequence1.zip  nightSequence1.zip\t\t  sample-nightClip1.zip\n",
            "daySequence2.zip  nightSequence2.zip\n",
            "dayTrain.zip\t  nightTrain.zip\n"
          ],
          "name": "stdout"
        }
      ]
    }
  ]
}