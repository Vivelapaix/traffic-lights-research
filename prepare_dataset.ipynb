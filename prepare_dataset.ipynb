{
  "nbformat": 4,
  "nbformat_minor": 0,
  "metadata": {
    "colab": {
      "name": "prepare_dataset.ipynb",
      "version": "0.3.2",
      "provenance": [],
      "collapsed_sections": []
    },
    "kernelspec": {
      "name": "python3",
      "display_name": "Python 3"
    }
  },
  "cells": [
    {
      "cell_type": "code",
      "metadata": {
        "id": "ZurHlwvgwvRh",
        "colab_type": "code",
        "outputId": "e3397f71-7649-4962-fd34-fbbff5169690",
        "colab": {
          "base_uri": "https://localhost:8080/",
          "height": 124
        }
      },
      "source": [
        "from google.colab import drive\n",
        "drive.mount('/content/drive/')"
      ],
      "execution_count": 1,
      "outputs": [
        {
          "output_type": "stream",
          "text": [
            "Go to this URL in a browser: https://accounts.google.com/o/oauth2/auth?client_id=947318989803-6bn6qk8qdgf4n4g3pfee6491hc0brc4i.apps.googleusercontent.com&redirect_uri=urn%3Aietf%3Awg%3Aoauth%3A2.0%3Aoob&scope=email%20https%3A%2F%2Fwww.googleapis.com%2Fauth%2Fdocs.test%20https%3A%2F%2Fwww.googleapis.com%2Fauth%2Fdrive%20https%3A%2F%2Fwww.googleapis.com%2Fauth%2Fdrive.photos.readonly%20https%3A%2F%2Fwww.googleapis.com%2Fauth%2Fpeopleapi.readonly&response_type=code\n",
            "\n",
            "Enter your authorization code:\n",
            "··········\n",
            "Mounted at /content/drive/\n"
          ],
          "name": "stdout"
        }
      ]
    },
    {
      "cell_type": "code",
      "metadata": {
        "id": "IeAJrKKGw4d7",
        "colab_type": "code",
        "colab": {}
      },
      "source": [
        "import os\n",
        "import numpy as np\n",
        "import pandas as pd\n",
        "import random\n",
        "import matplotlib.image as mpimg\n",
        "import matplotlib.pyplot as plt\n",
        "import csv\n",
        "import cv2\n",
        "\n",
        "%matplotlib inline"
      ],
      "execution_count": 0,
      "outputs": []
    },
    {
      "cell_type": "code",
      "metadata": {
        "id": "p8c875_5w60B",
        "colab_type": "code",
        "colab": {}
      },
      "source": [
        "# base directory where you store your *.zip from lisa-traffic-light-dataset.zip\n",
        "base_dir = 'drive/My Drive/traffic_lights_research/kaggle/'\n",
        "\n",
        "# labels\n",
        "labels_dir = 'Annotations/dayTrain/dayClip3/'\n",
        "\n",
        "# image folder\n",
        "image_dir = 'dayTrain/dayClip3/frames/'"
      ],
      "execution_count": 0,
      "outputs": []
    },
    {
      "cell_type": "code",
      "metadata": {
        "id": "jQ_J1ufHw9F5",
        "colab_type": "code",
        "colab": {}
      },
      "source": [
        "# firstly, you need unzip Annotations.zip and dayTrain.zip\n",
        "# !unzip /content/drive/My\\ Drive/traffic_lights_research/kaggle/dayTrain.zip -d /content/drive/My\\ Drive/traffic_lights_research/kaggle/\n",
        "# !unzip /content/drive/My\\ Drive/traffic_lights_research/kaggle/Annotations.zip -d /content/drive/My\\ Drive/traffic_lights_research/kaggle/"
      ],
      "execution_count": 0,
      "outputs": []
    },
    {
      "cell_type": "code",
      "metadata": {
        "id": "arJfiYtdw97N",
        "colab_type": "code",
        "outputId": "5469ab76-8dbd-4fb6-f3c1-5a49dad5e962",
        "colab": {
          "base_uri": "https://localhost:8080/",
          "height": 310
        }
      },
      "source": [
        "annotation_name = 'frameAnnotationsBOX.csv'\n",
        "traffic_df = pd.read_csv(base_dir + labels_dir + annotation_name, delimiter=';')\n",
        "traffic_df.head()"
      ],
      "execution_count": 41,
      "outputs": [
        {
          "output_type": "execute_result",
          "data": {
            "text/html": [
              "<div>\n",
              "<style scoped>\n",
              "    .dataframe tbody tr th:only-of-type {\n",
              "        vertical-align: middle;\n",
              "    }\n",
              "\n",
              "    .dataframe tbody tr th {\n",
              "        vertical-align: top;\n",
              "    }\n",
              "\n",
              "    .dataframe thead th {\n",
              "        text-align: right;\n",
              "    }\n",
              "</style>\n",
              "<table border=\"1\" class=\"dataframe\">\n",
              "  <thead>\n",
              "    <tr style=\"text-align: right;\">\n",
              "      <th></th>\n",
              "      <th>Filename</th>\n",
              "      <th>Annotation tag</th>\n",
              "      <th>Upper left corner X</th>\n",
              "      <th>Upper left corner Y</th>\n",
              "      <th>Lower right corner X</th>\n",
              "      <th>Lower right corner Y</th>\n",
              "      <th>Origin file</th>\n",
              "      <th>Origin frame number</th>\n",
              "      <th>Origin track</th>\n",
              "      <th>Origin track frame number</th>\n",
              "    </tr>\n",
              "  </thead>\n",
              "  <tbody>\n",
              "    <tr>\n",
              "      <th>0</th>\n",
              "      <td>dayTraining/dayClip3--00001.jpg</td>\n",
              "      <td>warning</td>\n",
              "      <td>622</td>\n",
              "      <td>361</td>\n",
              "      <td>637</td>\n",
              "      <td>379</td>\n",
              "      <td>dayTraining/dayClip3/dayClip3Shutter0.000800-G...</td>\n",
              "      <td>1</td>\n",
              "      <td>dayTraining/dayClip3/dayClip3Shutter0.000800-G...</td>\n",
              "      <td>1</td>\n",
              "    </tr>\n",
              "    <tr>\n",
              "      <th>1</th>\n",
              "      <td>dayTraining/dayClip3--00002.jpg</td>\n",
              "      <td>warning</td>\n",
              "      <td>622</td>\n",
              "      <td>358</td>\n",
              "      <td>637</td>\n",
              "      <td>380</td>\n",
              "      <td>dayTraining/dayClip3/dayClip3Shutter0.000800-G...</td>\n",
              "      <td>2</td>\n",
              "      <td>dayTraining/dayClip3/dayClip3Shutter0.000800-G...</td>\n",
              "      <td>2</td>\n",
              "    </tr>\n",
              "    <tr>\n",
              "      <th>2</th>\n",
              "      <td>dayTraining/dayClip3--00003.jpg</td>\n",
              "      <td>warning</td>\n",
              "      <td>506</td>\n",
              "      <td>382</td>\n",
              "      <td>518</td>\n",
              "      <td>404</td>\n",
              "      <td>dayTraining/dayClip3/dayClip3Shutter0.000800-G...</td>\n",
              "      <td>3</td>\n",
              "      <td>dayTraining/dayClip3/dayClip3Shutter0.000800-G...</td>\n",
              "      <td>3</td>\n",
              "    </tr>\n",
              "    <tr>\n",
              "      <th>3</th>\n",
              "      <td>dayTraining/dayClip3--00004.jpg</td>\n",
              "      <td>warning</td>\n",
              "      <td>620</td>\n",
              "      <td>358</td>\n",
              "      <td>638</td>\n",
              "      <td>380</td>\n",
              "      <td>dayTraining/dayClip3/dayClip3Shutter0.000800-G...</td>\n",
              "      <td>4</td>\n",
              "      <td>dayTraining/dayClip3/dayClip3Shutter0.000800-G...</td>\n",
              "      <td>4</td>\n",
              "    </tr>\n",
              "    <tr>\n",
              "      <th>4</th>\n",
              "      <td>dayTraining/dayClip3--00004.jpg</td>\n",
              "      <td>warning</td>\n",
              "      <td>504</td>\n",
              "      <td>382</td>\n",
              "      <td>519</td>\n",
              "      <td>404</td>\n",
              "      <td>dayTraining/dayClip3/dayClip3Shutter0.000800-G...</td>\n",
              "      <td>4</td>\n",
              "      <td>dayTraining/dayClip3/dayClip3Shutter0.000800-G...</td>\n",
              "      <td>4</td>\n",
              "    </tr>\n",
              "  </tbody>\n",
              "</table>\n",
              "</div>"
            ],
            "text/plain": [
              "                          Filename  ... Origin track frame number\n",
              "0  dayTraining/dayClip3--00001.jpg  ...                         1\n",
              "1  dayTraining/dayClip3--00002.jpg  ...                         2\n",
              "2  dayTraining/dayClip3--00003.jpg  ...                         3\n",
              "3  dayTraining/dayClip3--00004.jpg  ...                         4\n",
              "4  dayTraining/dayClip3--00004.jpg  ...                         4\n",
              "\n",
              "[5 rows x 10 columns]"
            ]
          },
          "metadata": {
            "tags": []
          },
          "execution_count": 41
        }
      ]
    },
    {
      "cell_type": "code",
      "metadata": {
        "id": "xoA46XnXxErW",
        "colab_type": "code",
        "outputId": "99fcd017-12c2-4ea2-92a0-ba0165880d75",
        "colab": {
          "base_uri": "https://localhost:8080/",
          "height": 104
        }
      },
      "source": [
        "traffic_df[\"Upper left corner X\"] = traffic_df[\"Upper left corner X\"].apply(str)\n",
        "traffic_df[\"Upper left corner Y\"] = traffic_df[\"Upper left corner Y\"].apply(str)\n",
        "traffic_df[\"Lower right corner X\"] = traffic_df[\"Lower right corner X\"].apply(str)\n",
        "traffic_df[\"Lower right corner Y\"] = traffic_df[\"Lower right corner Y\"].apply(str)\n",
        "traffic_df[\"Lower right corner Y\"].describe()"
      ],
      "execution_count": 42,
      "outputs": [
        {
          "output_type": "execute_result",
          "data": {
            "text/plain": [
              "count     1131\n",
              "unique     226\n",
              "top        304\n",
              "freq       175\n",
              "Name: Lower right corner Y, dtype: object"
            ]
          },
          "metadata": {
            "tags": []
          },
          "execution_count": 42
        }
      ]
    },
    {
      "cell_type": "code",
      "metadata": {
        "id": "qapZZXqtxIUC",
        "colab_type": "code",
        "outputId": "613de008-58ea-4320-da23-8ebe70cbb22f",
        "colab": {
          "base_uri": "https://localhost:8080/",
          "height": 52
        }
      },
      "source": [
        "print('Number of images: ', traffic_df.Filename.size)\n",
        "print('Number of unique images: ', traffic_df.Filename.nunique())"
      ],
      "execution_count": 43,
      "outputs": [
        {
          "output_type": "stream",
          "text": [
            "Number of images:  1131\n",
            "Number of unique images:  547\n"
          ],
          "name": "stdout"
        }
      ]
    },
    {
      "cell_type": "code",
      "metadata": {
        "id": "Sg0nLrHLxLab",
        "colab_type": "code",
        "outputId": "c74e69ae-61f9-4d3f-fd86-d3511fc6d152",
        "colab": {
          "base_uri": "https://localhost:8080/",
          "height": 34
        }
      },
      "source": [
        "print('Number of unique annotation tags: ', traffic_df['Annotation tag'].nunique())"
      ],
      "execution_count": 44,
      "outputs": [
        {
          "output_type": "stream",
          "text": [
            "Number of unique annotation tags:  3\n"
          ],
          "name": "stdout"
        }
      ]
    },
    {
      "cell_type": "code",
      "metadata": {
        "id": "D555wHSWxQsJ",
        "colab_type": "code",
        "outputId": "3b32959d-b1ad-479c-c1ea-049382ea9964",
        "colab": {
          "base_uri": "https://localhost:8080/",
          "height": 69
        }
      },
      "source": [
        "traffic_df.Filename[traffic_df.Filename == \"dayTraining/dayClip3--00004.jpg\"]"
      ],
      "execution_count": 45,
      "outputs": [
        {
          "output_type": "execute_result",
          "data": {
            "text/plain": [
              "3    dayTraining/dayClip3--00004.jpg\n",
              "4    dayTraining/dayClip3--00004.jpg\n",
              "Name: Filename, dtype: object"
            ]
          },
          "metadata": {
            "tags": []
          },
          "execution_count": 45
        }
      ]
    },
    {
      "cell_type": "code",
      "metadata": {
        "id": "YYEDkMWhxUSM",
        "colab_type": "code",
        "outputId": "eff4dfd6-7033-4a88-b338-f1cd99b28adf",
        "colab": {
          "base_uri": "https://localhost:8080/",
          "height": 34
        }
      },
      "source": [
        "same_filenames = traffic_df.index[traffic_df['Filename'] == 'dayTraining/dayClip3--00004.jpg'].tolist()\n",
        "same_filenames"
      ],
      "execution_count": 46,
      "outputs": [
        {
          "output_type": "execute_result",
          "data": {
            "text/plain": [
              "[3, 4]"
            ]
          },
          "metadata": {
            "tags": []
          },
          "execution_count": 46
        }
      ]
    },
    {
      "cell_type": "code",
      "metadata": {
        "id": "06wlY6pRxWzS",
        "colab_type": "code",
        "outputId": "95cc1bea-cb02-46a6-db33-95bfc33751b1",
        "colab": {
          "base_uri": "https://localhost:8080/",
          "height": 69
        }
      },
      "source": [
        "print('Number of images with red light: ', traffic_df.Filename[traffic_df['Annotation tag'] == 'stop'].size)\n",
        "print('Number of images with yellow light: ', traffic_df.Filename[traffic_df['Annotation tag'] == 'warning'].size)\n",
        "print('Number of images with green light: ', traffic_df.Filename[traffic_df['Annotation tag'] == 'go'].size)"
      ],
      "execution_count": 47,
      "outputs": [
        {
          "output_type": "stream",
          "text": [
            "Number of images with red light:  953\n",
            "Number of images with yellow light:  60\n",
            "Number of images with green light:  118\n"
          ],
          "name": "stdout"
        }
      ]
    },
    {
      "cell_type": "markdown",
      "metadata": {
        "id": "KlGSPU_IxdFA",
        "colab_type": "text"
      },
      "source": [
        "Generate unique names for each image. Let's create new column\n",
        "\n"
      ]
    },
    {
      "cell_type": "code",
      "metadata": {
        "id": "uXoIbYLZxfDI",
        "colab_type": "code",
        "outputId": "56c26019-769c-45aa-8dbf-bcdfde68798a",
        "colab": {
          "base_uri": "https://localhost:8080/",
          "height": 328
        }
      },
      "source": [
        "traffic_df[\"image_name\"] = traffic_df.index\n",
        "traffic_df[\"image_name\"] = traffic_df[\"image_name\"].apply(str)\n",
        "traffic_df[\"image_name\"] = 'img' + traffic_df[\"image_name\"] + '.jpg'\n",
        "traffic_df.head()"
      ],
      "execution_count": 48,
      "outputs": [
        {
          "output_type": "execute_result",
          "data": {
            "text/html": [
              "<div>\n",
              "<style scoped>\n",
              "    .dataframe tbody tr th:only-of-type {\n",
              "        vertical-align: middle;\n",
              "    }\n",
              "\n",
              "    .dataframe tbody tr th {\n",
              "        vertical-align: top;\n",
              "    }\n",
              "\n",
              "    .dataframe thead th {\n",
              "        text-align: right;\n",
              "    }\n",
              "</style>\n",
              "<table border=\"1\" class=\"dataframe\">\n",
              "  <thead>\n",
              "    <tr style=\"text-align: right;\">\n",
              "      <th></th>\n",
              "      <th>Filename</th>\n",
              "      <th>Annotation tag</th>\n",
              "      <th>Upper left corner X</th>\n",
              "      <th>Upper left corner Y</th>\n",
              "      <th>Lower right corner X</th>\n",
              "      <th>Lower right corner Y</th>\n",
              "      <th>Origin file</th>\n",
              "      <th>Origin frame number</th>\n",
              "      <th>Origin track</th>\n",
              "      <th>Origin track frame number</th>\n",
              "      <th>image_name</th>\n",
              "    </tr>\n",
              "  </thead>\n",
              "  <tbody>\n",
              "    <tr>\n",
              "      <th>0</th>\n",
              "      <td>dayTraining/dayClip3--00001.jpg</td>\n",
              "      <td>warning</td>\n",
              "      <td>622</td>\n",
              "      <td>361</td>\n",
              "      <td>637</td>\n",
              "      <td>379</td>\n",
              "      <td>dayTraining/dayClip3/dayClip3Shutter0.000800-G...</td>\n",
              "      <td>1</td>\n",
              "      <td>dayTraining/dayClip3/dayClip3Shutter0.000800-G...</td>\n",
              "      <td>1</td>\n",
              "      <td>img0.jpg</td>\n",
              "    </tr>\n",
              "    <tr>\n",
              "      <th>1</th>\n",
              "      <td>dayTraining/dayClip3--00002.jpg</td>\n",
              "      <td>warning</td>\n",
              "      <td>622</td>\n",
              "      <td>358</td>\n",
              "      <td>637</td>\n",
              "      <td>380</td>\n",
              "      <td>dayTraining/dayClip3/dayClip3Shutter0.000800-G...</td>\n",
              "      <td>2</td>\n",
              "      <td>dayTraining/dayClip3/dayClip3Shutter0.000800-G...</td>\n",
              "      <td>2</td>\n",
              "      <td>img1.jpg</td>\n",
              "    </tr>\n",
              "    <tr>\n",
              "      <th>2</th>\n",
              "      <td>dayTraining/dayClip3--00003.jpg</td>\n",
              "      <td>warning</td>\n",
              "      <td>506</td>\n",
              "      <td>382</td>\n",
              "      <td>518</td>\n",
              "      <td>404</td>\n",
              "      <td>dayTraining/dayClip3/dayClip3Shutter0.000800-G...</td>\n",
              "      <td>3</td>\n",
              "      <td>dayTraining/dayClip3/dayClip3Shutter0.000800-G...</td>\n",
              "      <td>3</td>\n",
              "      <td>img2.jpg</td>\n",
              "    </tr>\n",
              "    <tr>\n",
              "      <th>3</th>\n",
              "      <td>dayTraining/dayClip3--00004.jpg</td>\n",
              "      <td>warning</td>\n",
              "      <td>620</td>\n",
              "      <td>358</td>\n",
              "      <td>638</td>\n",
              "      <td>380</td>\n",
              "      <td>dayTraining/dayClip3/dayClip3Shutter0.000800-G...</td>\n",
              "      <td>4</td>\n",
              "      <td>dayTraining/dayClip3/dayClip3Shutter0.000800-G...</td>\n",
              "      <td>4</td>\n",
              "      <td>img3.jpg</td>\n",
              "    </tr>\n",
              "    <tr>\n",
              "      <th>4</th>\n",
              "      <td>dayTraining/dayClip3--00004.jpg</td>\n",
              "      <td>warning</td>\n",
              "      <td>504</td>\n",
              "      <td>382</td>\n",
              "      <td>519</td>\n",
              "      <td>404</td>\n",
              "      <td>dayTraining/dayClip3/dayClip3Shutter0.000800-G...</td>\n",
              "      <td>4</td>\n",
              "      <td>dayTraining/dayClip3/dayClip3Shutter0.000800-G...</td>\n",
              "      <td>4</td>\n",
              "      <td>img4.jpg</td>\n",
              "    </tr>\n",
              "  </tbody>\n",
              "</table>\n",
              "</div>"
            ],
            "text/plain": [
              "                          Filename  ... image_name\n",
              "0  dayTraining/dayClip3--00001.jpg  ...   img0.jpg\n",
              "1  dayTraining/dayClip3--00002.jpg  ...   img1.jpg\n",
              "2  dayTraining/dayClip3--00003.jpg  ...   img2.jpg\n",
              "3  dayTraining/dayClip3--00004.jpg  ...   img3.jpg\n",
              "4  dayTraining/dayClip3--00004.jpg  ...   img4.jpg\n",
              "\n",
              "[5 rows x 11 columns]"
            ]
          },
          "metadata": {
            "tags": []
          },
          "execution_count": 48
        }
      ]
    },
    {
      "cell_type": "code",
      "metadata": {
        "id": "gXTi2aISxk9s",
        "colab_type": "code",
        "outputId": "69086af8-0083-4a20-8104-80ebc474d5fb",
        "colab": {
          "base_uri": "https://localhost:8080/",
          "height": 206
        }
      },
      "source": [
        "labels_df = traffic_df[['image_name', 'Annotation tag', 'Upper left corner X', 'Upper left corner Y', 'Lower right corner X', 'Lower right corner Y', 'Filename']].copy()\n",
        "labels_df.columns = ['file_name', 'class', 'xmin', 'ymin', 'xmax', 'ymax', 'image_name']\n",
        "labels_df.head()"
      ],
      "execution_count": 49,
      "outputs": [
        {
          "output_type": "execute_result",
          "data": {
            "text/html": [
              "<div>\n",
              "<style scoped>\n",
              "    .dataframe tbody tr th:only-of-type {\n",
              "        vertical-align: middle;\n",
              "    }\n",
              "\n",
              "    .dataframe tbody tr th {\n",
              "        vertical-align: top;\n",
              "    }\n",
              "\n",
              "    .dataframe thead th {\n",
              "        text-align: right;\n",
              "    }\n",
              "</style>\n",
              "<table border=\"1\" class=\"dataframe\">\n",
              "  <thead>\n",
              "    <tr style=\"text-align: right;\">\n",
              "      <th></th>\n",
              "      <th>file_name</th>\n",
              "      <th>class</th>\n",
              "      <th>xmin</th>\n",
              "      <th>ymin</th>\n",
              "      <th>xmax</th>\n",
              "      <th>ymax</th>\n",
              "      <th>image_name</th>\n",
              "    </tr>\n",
              "  </thead>\n",
              "  <tbody>\n",
              "    <tr>\n",
              "      <th>0</th>\n",
              "      <td>img0.jpg</td>\n",
              "      <td>warning</td>\n",
              "      <td>622</td>\n",
              "      <td>361</td>\n",
              "      <td>637</td>\n",
              "      <td>379</td>\n",
              "      <td>dayTraining/dayClip3--00001.jpg</td>\n",
              "    </tr>\n",
              "    <tr>\n",
              "      <th>1</th>\n",
              "      <td>img1.jpg</td>\n",
              "      <td>warning</td>\n",
              "      <td>622</td>\n",
              "      <td>358</td>\n",
              "      <td>637</td>\n",
              "      <td>380</td>\n",
              "      <td>dayTraining/dayClip3--00002.jpg</td>\n",
              "    </tr>\n",
              "    <tr>\n",
              "      <th>2</th>\n",
              "      <td>img2.jpg</td>\n",
              "      <td>warning</td>\n",
              "      <td>506</td>\n",
              "      <td>382</td>\n",
              "      <td>518</td>\n",
              "      <td>404</td>\n",
              "      <td>dayTraining/dayClip3--00003.jpg</td>\n",
              "    </tr>\n",
              "    <tr>\n",
              "      <th>3</th>\n",
              "      <td>img3.jpg</td>\n",
              "      <td>warning</td>\n",
              "      <td>620</td>\n",
              "      <td>358</td>\n",
              "      <td>638</td>\n",
              "      <td>380</td>\n",
              "      <td>dayTraining/dayClip3--00004.jpg</td>\n",
              "    </tr>\n",
              "    <tr>\n",
              "      <th>4</th>\n",
              "      <td>img4.jpg</td>\n",
              "      <td>warning</td>\n",
              "      <td>504</td>\n",
              "      <td>382</td>\n",
              "      <td>519</td>\n",
              "      <td>404</td>\n",
              "      <td>dayTraining/dayClip3--00004.jpg</td>\n",
              "    </tr>\n",
              "  </tbody>\n",
              "</table>\n",
              "</div>"
            ],
            "text/plain": [
              "  file_name    class xmin ymin xmax ymax                       image_name\n",
              "0  img0.jpg  warning  622  361  637  379  dayTraining/dayClip3--00001.jpg\n",
              "1  img1.jpg  warning  622  358  637  380  dayTraining/dayClip3--00002.jpg\n",
              "2  img2.jpg  warning  506  382  518  404  dayTraining/dayClip3--00003.jpg\n",
              "3  img3.jpg  warning  620  358  638  380  dayTraining/dayClip3--00004.jpg\n",
              "4  img4.jpg  warning  504  382  519  404  dayTraining/dayClip3--00004.jpg"
            ]
          },
          "metadata": {
            "tags": []
          },
          "execution_count": 49
        }
      ]
    },
    {
      "cell_type": "code",
      "metadata": {
        "id": "g-sTZPf2gKha",
        "colab_type": "code",
        "colab": {}
      },
      "source": [
        "for index in range(labels_df.shape[0]):\n",
        "    name = base_dir + image_dir + labels_df.iloc[0]['image_name'].split('/')[-1]\n",
        "    image = cv2.imread(name) # using the orig name, read the image\n",
        "    \n",
        "    labels_df['height'] = image.shape[0]\n",
        "    labels_df['width'] = image.shape[1]\n",
        "    labels_df['height'] = labels_df['height'].apply(str)\n",
        "    labels_df['width'] = labels_df['width'].apply(str)\n",
        "    \n",
        "    labels_df['image_path'] = name\n",
        "    labels_df['image_path'] = labels_df['image_path'].apply(str)"
      ],
      "execution_count": 0,
      "outputs": []
    },
    {
      "cell_type": "code",
      "metadata": {
        "id": "jIqja38thksk",
        "colab_type": "code",
        "colab": {
          "base_uri": "https://localhost:8080/",
          "height": 206
        },
        "outputId": "6d6d8829-49f5-4e92-c9aa-9e058981766d"
      },
      "source": [
        "labels_df.head()"
      ],
      "execution_count": 51,
      "outputs": [
        {
          "output_type": "execute_result",
          "data": {
            "text/html": [
              "<div>\n",
              "<style scoped>\n",
              "    .dataframe tbody tr th:only-of-type {\n",
              "        vertical-align: middle;\n",
              "    }\n",
              "\n",
              "    .dataframe tbody tr th {\n",
              "        vertical-align: top;\n",
              "    }\n",
              "\n",
              "    .dataframe thead th {\n",
              "        text-align: right;\n",
              "    }\n",
              "</style>\n",
              "<table border=\"1\" class=\"dataframe\">\n",
              "  <thead>\n",
              "    <tr style=\"text-align: right;\">\n",
              "      <th></th>\n",
              "      <th>file_name</th>\n",
              "      <th>class</th>\n",
              "      <th>xmin</th>\n",
              "      <th>ymin</th>\n",
              "      <th>xmax</th>\n",
              "      <th>ymax</th>\n",
              "      <th>image_name</th>\n",
              "      <th>height</th>\n",
              "      <th>width</th>\n",
              "      <th>image_path</th>\n",
              "    </tr>\n",
              "  </thead>\n",
              "  <tbody>\n",
              "    <tr>\n",
              "      <th>0</th>\n",
              "      <td>img0.jpg</td>\n",
              "      <td>warning</td>\n",
              "      <td>622</td>\n",
              "      <td>361</td>\n",
              "      <td>637</td>\n",
              "      <td>379</td>\n",
              "      <td>dayTraining/dayClip3--00001.jpg</td>\n",
              "      <td>960</td>\n",
              "      <td>1280</td>\n",
              "      <td>drive/My Drive/traffic_lights_research/kaggle/...</td>\n",
              "    </tr>\n",
              "    <tr>\n",
              "      <th>1</th>\n",
              "      <td>img1.jpg</td>\n",
              "      <td>warning</td>\n",
              "      <td>622</td>\n",
              "      <td>358</td>\n",
              "      <td>637</td>\n",
              "      <td>380</td>\n",
              "      <td>dayTraining/dayClip3--00002.jpg</td>\n",
              "      <td>960</td>\n",
              "      <td>1280</td>\n",
              "      <td>drive/My Drive/traffic_lights_research/kaggle/...</td>\n",
              "    </tr>\n",
              "    <tr>\n",
              "      <th>2</th>\n",
              "      <td>img2.jpg</td>\n",
              "      <td>warning</td>\n",
              "      <td>506</td>\n",
              "      <td>382</td>\n",
              "      <td>518</td>\n",
              "      <td>404</td>\n",
              "      <td>dayTraining/dayClip3--00003.jpg</td>\n",
              "      <td>960</td>\n",
              "      <td>1280</td>\n",
              "      <td>drive/My Drive/traffic_lights_research/kaggle/...</td>\n",
              "    </tr>\n",
              "    <tr>\n",
              "      <th>3</th>\n",
              "      <td>img3.jpg</td>\n",
              "      <td>warning</td>\n",
              "      <td>620</td>\n",
              "      <td>358</td>\n",
              "      <td>638</td>\n",
              "      <td>380</td>\n",
              "      <td>dayTraining/dayClip3--00004.jpg</td>\n",
              "      <td>960</td>\n",
              "      <td>1280</td>\n",
              "      <td>drive/My Drive/traffic_lights_research/kaggle/...</td>\n",
              "    </tr>\n",
              "    <tr>\n",
              "      <th>4</th>\n",
              "      <td>img4.jpg</td>\n",
              "      <td>warning</td>\n",
              "      <td>504</td>\n",
              "      <td>382</td>\n",
              "      <td>519</td>\n",
              "      <td>404</td>\n",
              "      <td>dayTraining/dayClip3--00004.jpg</td>\n",
              "      <td>960</td>\n",
              "      <td>1280</td>\n",
              "      <td>drive/My Drive/traffic_lights_research/kaggle/...</td>\n",
              "    </tr>\n",
              "  </tbody>\n",
              "</table>\n",
              "</div>"
            ],
            "text/plain": [
              "  file_name    class  ... width                                         image_path\n",
              "0  img0.jpg  warning  ...  1280  drive/My Drive/traffic_lights_research/kaggle/...\n",
              "1  img1.jpg  warning  ...  1280  drive/My Drive/traffic_lights_research/kaggle/...\n",
              "2  img2.jpg  warning  ...  1280  drive/My Drive/traffic_lights_research/kaggle/...\n",
              "3  img3.jpg  warning  ...  1280  drive/My Drive/traffic_lights_research/kaggle/...\n",
              "4  img4.jpg  warning  ...  1280  drive/My Drive/traffic_lights_research/kaggle/...\n",
              "\n",
              "[5 rows x 10 columns]"
            ]
          },
          "metadata": {
            "tags": []
          },
          "execution_count": 51
        }
      ]
    },
    {
      "cell_type": "code",
      "metadata": {
        "id": "5my5fvGYx1Ys",
        "colab_type": "code",
        "colab": {}
      },
      "source": [
        "from sklearn.model_selection import train_test_split\n",
        "from sklearn.utils import shuffle"
      ],
      "execution_count": 0,
      "outputs": []
    },
    {
      "cell_type": "code",
      "metadata": {
        "id": "uGQZil_Kx36-",
        "colab_type": "code",
        "colab": {}
      },
      "source": [
        "rand_state = 100\n",
        "y_train_df, y_test_df = train_test_split(labels_df, test_size=0.2, random_state=rand_state)"
      ],
      "execution_count": 0,
      "outputs": []
    },
    {
      "cell_type": "code",
      "metadata": {
        "id": "oKn3HVthyC2x",
        "colab_type": "code",
        "colab": {}
      },
      "source": [
        "y_train_df = y_train_df.copy()\n",
        "y_test_df = y_test_df.copy()"
      ],
      "execution_count": 0,
      "outputs": []
    },
    {
      "cell_type": "code",
      "metadata": {
        "id": "3V_JVkV-yHqj",
        "colab_type": "code",
        "outputId": "17c74f9a-5154-4001-c7b3-ad3bbcef0be3",
        "colab": {
          "base_uri": "https://localhost:8080/",
          "height": 52
        }
      },
      "source": [
        "print('y_train_df shape: ', y_train_df.shape)\n",
        "print('y_test_df shape: ', y_test_df.shape)"
      ],
      "execution_count": 55,
      "outputs": [
        {
          "output_type": "stream",
          "text": [
            "y_train_df shape:  (904, 10)\n",
            "y_test_df shape:  (227, 10)\n"
          ],
          "name": "stdout"
        }
      ]
    },
    {
      "cell_type": "code",
      "metadata": {
        "id": "uLlPkxgLyMAA",
        "colab_type": "code",
        "outputId": "daaa48ed-254b-4273-92a2-89e96934d201",
        "colab": {
          "base_uri": "https://localhost:8080/",
          "height": 206
        }
      },
      "source": [
        "y_train_df.head()"
      ],
      "execution_count": 56,
      "outputs": [
        {
          "output_type": "execute_result",
          "data": {
            "text/html": [
              "<div>\n",
              "<style scoped>\n",
              "    .dataframe tbody tr th:only-of-type {\n",
              "        vertical-align: middle;\n",
              "    }\n",
              "\n",
              "    .dataframe tbody tr th {\n",
              "        vertical-align: top;\n",
              "    }\n",
              "\n",
              "    .dataframe thead th {\n",
              "        text-align: right;\n",
              "    }\n",
              "</style>\n",
              "<table border=\"1\" class=\"dataframe\">\n",
              "  <thead>\n",
              "    <tr style=\"text-align: right;\">\n",
              "      <th></th>\n",
              "      <th>file_name</th>\n",
              "      <th>class</th>\n",
              "      <th>xmin</th>\n",
              "      <th>ymin</th>\n",
              "      <th>xmax</th>\n",
              "      <th>ymax</th>\n",
              "      <th>image_name</th>\n",
              "      <th>height</th>\n",
              "      <th>width</th>\n",
              "      <th>image_path</th>\n",
              "    </tr>\n",
              "  </thead>\n",
              "  <tbody>\n",
              "    <tr>\n",
              "      <th>580</th>\n",
              "      <td>img580.jpg</td>\n",
              "      <td>stop</td>\n",
              "      <td>619</td>\n",
              "      <td>77</td>\n",
              "      <td>661</td>\n",
              "      <td>140</td>\n",
              "      <td>dayTraining/dayClip3--00329.jpg</td>\n",
              "      <td>960</td>\n",
              "      <td>1280</td>\n",
              "      <td>drive/My Drive/traffic_lights_research/kaggle/...</td>\n",
              "    </tr>\n",
              "    <tr>\n",
              "      <th>515</th>\n",
              "      <td>img515.jpg</td>\n",
              "      <td>stop</td>\n",
              "      <td>893</td>\n",
              "      <td>256</td>\n",
              "      <td>932</td>\n",
              "      <td>328</td>\n",
              "      <td>dayTraining/dayClip3--00307.jpg</td>\n",
              "      <td>960</td>\n",
              "      <td>1280</td>\n",
              "      <td>drive/My Drive/traffic_lights_research/kaggle/...</td>\n",
              "    </tr>\n",
              "    <tr>\n",
              "      <th>46</th>\n",
              "      <td>img46.jpg</td>\n",
              "      <td>warning</td>\n",
              "      <td>780</td>\n",
              "      <td>356</td>\n",
              "      <td>792</td>\n",
              "      <td>374</td>\n",
              "      <td>dayTraining/dayClip3--00060.jpg</td>\n",
              "      <td>960</td>\n",
              "      <td>1280</td>\n",
              "      <td>drive/My Drive/traffic_lights_research/kaggle/...</td>\n",
              "    </tr>\n",
              "    <tr>\n",
              "      <th>424</th>\n",
              "      <td>img424.jpg</td>\n",
              "      <td>stop</td>\n",
              "      <td>628</td>\n",
              "      <td>202</td>\n",
              "      <td>661</td>\n",
              "      <td>251</td>\n",
              "      <td>dayTraining/dayClip3--00277.jpg</td>\n",
              "      <td>960</td>\n",
              "      <td>1280</td>\n",
              "      <td>drive/My Drive/traffic_lights_research/kaggle/...</td>\n",
              "    </tr>\n",
              "    <tr>\n",
              "      <th>826</th>\n",
              "      <td>img826.jpg</td>\n",
              "      <td>stop</td>\n",
              "      <td>960</td>\n",
              "      <td>205</td>\n",
              "      <td>1020</td>\n",
              "      <td>304</td>\n",
              "      <td>dayTraining/dayClip3--00443.jpg</td>\n",
              "      <td>960</td>\n",
              "      <td>1280</td>\n",
              "      <td>drive/My Drive/traffic_lights_research/kaggle/...</td>\n",
              "    </tr>\n",
              "  </tbody>\n",
              "</table>\n",
              "</div>"
            ],
            "text/plain": [
              "      file_name  ...                                         image_path\n",
              "580  img580.jpg  ...  drive/My Drive/traffic_lights_research/kaggle/...\n",
              "515  img515.jpg  ...  drive/My Drive/traffic_lights_research/kaggle/...\n",
              "46    img46.jpg  ...  drive/My Drive/traffic_lights_research/kaggle/...\n",
              "424  img424.jpg  ...  drive/My Drive/traffic_lights_research/kaggle/...\n",
              "826  img826.jpg  ...  drive/My Drive/traffic_lights_research/kaggle/...\n",
              "\n",
              "[5 rows x 10 columns]"
            ]
          },
          "metadata": {
            "tags": []
          },
          "execution_count": 56
        }
      ]
    },
    {
      "cell_type": "code",
      "metadata": {
        "id": "vRxOGwqGyN2r",
        "colab_type": "code",
        "outputId": "4c3fda20-2bdc-495f-99b2-5bc4bc56de1f",
        "colab": {
          "base_uri": "https://localhost:8080/",
          "height": 206
        }
      },
      "source": [
        "y_test_df.head()"
      ],
      "execution_count": 57,
      "outputs": [
        {
          "output_type": "execute_result",
          "data": {
            "text/html": [
              "<div>\n",
              "<style scoped>\n",
              "    .dataframe tbody tr th:only-of-type {\n",
              "        vertical-align: middle;\n",
              "    }\n",
              "\n",
              "    .dataframe tbody tr th {\n",
              "        vertical-align: top;\n",
              "    }\n",
              "\n",
              "    .dataframe thead th {\n",
              "        text-align: right;\n",
              "    }\n",
              "</style>\n",
              "<table border=\"1\" class=\"dataframe\">\n",
              "  <thead>\n",
              "    <tr style=\"text-align: right;\">\n",
              "      <th></th>\n",
              "      <th>file_name</th>\n",
              "      <th>class</th>\n",
              "      <th>xmin</th>\n",
              "      <th>ymin</th>\n",
              "      <th>xmax</th>\n",
              "      <th>ymax</th>\n",
              "      <th>image_name</th>\n",
              "      <th>height</th>\n",
              "      <th>width</th>\n",
              "      <th>image_path</th>\n",
              "    </tr>\n",
              "  </thead>\n",
              "  <tbody>\n",
              "    <tr>\n",
              "      <th>1074</th>\n",
              "      <td>img1074.jpg</td>\n",
              "      <td>go</td>\n",
              "      <td>975</td>\n",
              "      <td>210</td>\n",
              "      <td>1023</td>\n",
              "      <td>290</td>\n",
              "      <td>dayTraining/dayClip3--00568.jpg</td>\n",
              "      <td>960</td>\n",
              "      <td>1280</td>\n",
              "      <td>drive/My Drive/traffic_lights_research/kaggle/...</td>\n",
              "    </tr>\n",
              "    <tr>\n",
              "      <th>816</th>\n",
              "      <td>img816.jpg</td>\n",
              "      <td>stop</td>\n",
              "      <td>960</td>\n",
              "      <td>205</td>\n",
              "      <td>1020</td>\n",
              "      <td>304</td>\n",
              "      <td>dayTraining/dayClip3--00438.jpg</td>\n",
              "      <td>960</td>\n",
              "      <td>1280</td>\n",
              "      <td>drive/My Drive/traffic_lights_research/kaggle/...</td>\n",
              "    </tr>\n",
              "    <tr>\n",
              "      <th>954</th>\n",
              "      <td>img954.jpg</td>\n",
              "      <td>stop</td>\n",
              "      <td>960</td>\n",
              "      <td>205</td>\n",
              "      <td>1020</td>\n",
              "      <td>304</td>\n",
              "      <td>dayTraining/dayClip3--00507.jpg</td>\n",
              "      <td>960</td>\n",
              "      <td>1280</td>\n",
              "      <td>drive/My Drive/traffic_lights_research/kaggle/...</td>\n",
              "    </tr>\n",
              "    <tr>\n",
              "      <th>241</th>\n",
              "      <td>img241.jpg</td>\n",
              "      <td>stop</td>\n",
              "      <td>888</td>\n",
              "      <td>313</td>\n",
              "      <td>903</td>\n",
              "      <td>344</td>\n",
              "      <td>dayTraining/dayClip3--00212.jpg</td>\n",
              "      <td>960</td>\n",
              "      <td>1280</td>\n",
              "      <td>drive/My Drive/traffic_lights_research/kaggle/...</td>\n",
              "    </tr>\n",
              "    <tr>\n",
              "      <th>239</th>\n",
              "      <td>img239.jpg</td>\n",
              "      <td>stop</td>\n",
              "      <td>779</td>\n",
              "      <td>266</td>\n",
              "      <td>794</td>\n",
              "      <td>284</td>\n",
              "      <td>dayTraining/dayClip3--00212.jpg</td>\n",
              "      <td>960</td>\n",
              "      <td>1280</td>\n",
              "      <td>drive/My Drive/traffic_lights_research/kaggle/...</td>\n",
              "    </tr>\n",
              "  </tbody>\n",
              "</table>\n",
              "</div>"
            ],
            "text/plain": [
              "        file_name  ...                                         image_path\n",
              "1074  img1074.jpg  ...  drive/My Drive/traffic_lights_research/kaggle/...\n",
              "816    img816.jpg  ...  drive/My Drive/traffic_lights_research/kaggle/...\n",
              "954    img954.jpg  ...  drive/My Drive/traffic_lights_research/kaggle/...\n",
              "241    img241.jpg  ...  drive/My Drive/traffic_lights_research/kaggle/...\n",
              "239    img239.jpg  ...  drive/My Drive/traffic_lights_research/kaggle/...\n",
              "\n",
              "[5 rows x 10 columns]"
            ]
          },
          "metadata": {
            "tags": []
          },
          "execution_count": 57
        }
      ]
    },
    {
      "cell_type": "code",
      "metadata": {
        "id": "4-_qjvZtjkWE",
        "colab_type": "code",
        "colab": {
          "base_uri": "https://localhost:8080/",
          "height": 86
        },
        "outputId": "6674ee67-887b-4b35-df03-7e9d97c88c53"
      },
      "source": [
        "# Firstly create file to store train_labels.csv and test_labels.csv\n",
        "from datetime import datetime\n",
        " \n",
        "now = datetime.utcnow()\n",
        "current_time = \"{}-{}-{}--{}-{}\".format(now.day, now.month, now.year, now.hour, now.minute)\n",
        "\n",
        "# create train_labels.csv\n",
        "train_labels_location = base_dir + labels_dir + 'train_labels-{}.csv'.format(current_time)\n",
        "file = open(train_labels_location, \"w\") \n",
        "file.close() \n",
        "\n",
        "# create test_labels.csv\n",
        "test_labels_location = base_dir + labels_dir + 'test_labels-{}.csv'.format(current_time)\n",
        "file = open(test_labels_location, \"w\") \n",
        "file.close()\n",
        "\n",
        "os.listdir(base_dir + labels_dir)"
      ],
      "execution_count": 58,
      "outputs": [
        {
          "output_type": "execute_result",
          "data": {
            "text/plain": [
              "['frameAnnotationsBOX.csv',\n",
              " 'frameAnnotationsBULB.csv',\n",
              " 'train_labels-22-5-2019--17-38.csv',\n",
              " 'test_labels-22-5-2019--17-38.csv']"
            ]
          },
          "metadata": {
            "tags": []
          },
          "execution_count": 58
        }
      ]
    },
    {
      "cell_type": "code",
      "metadata": {
        "id": "y0eSHFZAiWe-",
        "colab_type": "code",
        "colab": {}
      },
      "source": [
        "y_train_df.to_csv(train_labels_location, index = False, header=True)\n",
        "y_test_df.to_csv(test_labels_location, index = False, header=True)"
      ],
      "execution_count": 0,
      "outputs": []
    }
  ]
}